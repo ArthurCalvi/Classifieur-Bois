{
  "nbformat": 4,
  "nbformat_minor": 0,
  "metadata": {
    "colab": {
      "name": "Classification du bois : préparation des images",
      "provenance": [],
      "authorship_tag": "ABX9TyM7BNWD/T4rGQSrg5AyTEa9",
      "include_colab_link": true
    },
    "kernelspec": {
      "name": "python3",
      "display_name": "Python 3"
    }
  },
  "cells": [
    {
      "cell_type": "markdown",
      "metadata": {
        "id": "view-in-github",
        "colab_type": "text"
      },
      "source": [
        "<a href=\"https://colab.research.google.com/github/ArthurCalvi/Classifieur-Bois/blob/master/Classification_du_bois_pr%C3%A9paration_des_images.ipynb\" target=\"_parent\"><img src=\"https://colab.research.google.com/assets/colab-badge.svg\" alt=\"Open In Colab\"/></a>"
      ]
    },
    {
      "cell_type": "markdown",
      "metadata": {
        "id": "FnTUW70x0AEY",
        "colab_type": "text"
      },
      "source": [
        "# **Classifiation du bois : préparation de l'image**\n",
        "\n",
        "Avant de donner l'image au réseau de neurones afin qu'il émette une prédiction sur ce que représente l'image il est nécessaire de préparer celle-ci. En effet, le réseau de neurones prend un entrée de dimension fixe : une image carrée de dimension 256x256 pixels. Dans ce notebook, les images contenues dans le dossier Google Drive *Classification_Bois/IMAGES_brutes* sont préparées et enregistrées dans un nouveau dossier Google Drive *Classification_Bois/IMAGES_préparées*."
      ]
    },
    {
      "cell_type": "markdown",
      "metadata": {
        "id": "Jecv_Wab-f4d",
        "colab_type": "text"
      },
      "source": [
        "**Partie 0 - Accès au Drive** \n",
        "\n",
        "Dans cette partie nous définissons l'accès à un Drive où sont stockés les images brutes et également l'accès à un dossier où nous allons sauvegardées les images préparées. \n",
        "\n"
      ]
    },
    {
      "cell_type": "code",
      "metadata": {
        "id": "mq49TdX5-bk6",
        "colab_type": "code",
        "colab": {
          "base_uri": "https://localhost:8080/",
          "height": 35
        },
        "outputId": "4381b56a-07d3-4889-d1d7-90c15c9524d8"
      },
      "source": [
        "from google.colab import drive\n",
        "drive.mount('/content/drive', force_remount=True)"
      ],
      "execution_count": null,
      "outputs": [
        {
          "output_type": "stream",
          "text": [
            "Mounted at /content/drive\n"
          ],
          "name": "stdout"
        }
      ]
    },
    {
      "cell_type": "markdown",
      "metadata": {
        "id": "hJtFCv58-2zb",
        "colab_type": "text"
      },
      "source": [
        "**Partie 1 - Imports**\n",
        "\n"
      ]
    },
    {
      "cell_type": "code",
      "metadata": {
        "id": "9TxZz3wS_ZHJ",
        "colab_type": "code",
        "colab": {}
      },
      "source": [
        "#Import de la bilbliothèque de gestion d'image PIL \n",
        "from PIL import Image \n",
        "\n",
        "#Import des bibliothèques os et sys pour manipuler les fichiers\n",
        "import sys,os\n",
        "\n",
        "sys.path.insert(0,'/content/drive/My Drive/Classification_Bois')"
      ],
      "execution_count": null,
      "outputs": []
    },
    {
      "cell_type": "markdown",
      "metadata": {
        "id": "uVj2QhkS_dIW",
        "colab_type": "text"
      },
      "source": [
        "**Partie 2 - Paramètres**\n",
        "\n",
        "Dans cette partie, nous définissons les paramètres tels que la largeur en pixels de l'image et le chemin d'accès pour récupérer les images et les enregistrer. "
      ]
    },
    {
      "cell_type": "code",
      "metadata": {
        "id": "HzTs7LjVDMEQ",
        "colab_type": "code",
        "colab": {}
      },
      "source": [
        "#largeur de l'image \n",
        "desired_size = 256\n",
        "\n",
        "#Chemin d'accés pour récupérer les images\n",
        "access = '/content/drive/My Drive/Classification_Bois/IMAGES_brutes'\n",
        "\n",
        "#Chemin d'accès pour enregistrer les nouvelles images\n",
        "save = '/content/drive/My Drive/Classification_Bois/IMAGES_préparées'"
      ],
      "execution_count": null,
      "outputs": []
    },
    {
      "cell_type": "markdown",
      "metadata": {
        "id": "fLXtKzM_D0V5",
        "colab_type": "text"
      },
      "source": [
        "**Partie 3 - Préparation de l'image**\n",
        "\n",
        "Dans cette partie nous définissons la fonction qui va effectuer les tâches suivantes\n",
        "\n",
        "1.   Redimensionner le plus petit côté de l'image à 256 pixels\n",
        "2.   Rogner le plus grand côté pour qu'il fasse également 256 pixels afin d'obtenir une image carrée. \n",
        "\n"
      ]
    },
    {
      "cell_type": "code",
      "metadata": {
        "id": "YrsMwlCBEdRT",
        "colab_type": "code",
        "colab": {}
      },
      "source": [
        "def prep_image(image):\n",
        "    \"\"\"Cette fonction prend en argument une image de taille et d'aspect quelconque \n",
        "      ouverte selon la méthode PIL Image.open et la transforme en une image carrée\n",
        "      de côté 256 pixels. Le recadrage est réalisée tel que le plus eptit côté est\n",
        "      fixée à 256 pixels et le plus grand côté et ensuite rogné pour obtenir un \n",
        "      format carre\"\"\"\n",
        "\n",
        "    #récupération des dimensions\n",
        "    width,height = image.size\n",
        "\n",
        "    #récupération du plus petit côté\n",
        "    small_side = min(width,height)\n",
        "\n",
        "    #définition du ratio entre l'ancienne et la nouvelle image\n",
        "    ratio = desired_size / small_side\n",
        "\n",
        "    #Mise à l'échelle\n",
        "    image = image.resize((round(ratio*width), round(ratio*height)), Image.ANTIALIAS )\n",
        "\n",
        "    #récupération des dimensions\n",
        "    width,height = image.size\n",
        "\n",
        "    #définition de la région à recadrer \n",
        "    crop_region = ( round(( width-desired_size)/2), 0 , round((width+desired_size)/2) , desired_size)\n",
        "\n",
        "    #Recadrage \n",
        "    image = image.crop(crop_region)\n",
        "\n",
        "    return image"
      ],
      "execution_count": null,
      "outputs": []
    },
    {
      "cell_type": "markdown",
      "metadata": {
        "id": "b9nHSKVCF7w_",
        "colab_type": "text"
      },
      "source": [
        "**Partie 4 - Préparation des images d'un dossier et enregistrement**\n",
        "\n",
        "Dans cette partie nous préparons toutes les images du dossier *Classification_Bois/IMAGES_Brutes* et nous les enregistrons dans le dossier *Classification_Bois/IMAGES_préparées*. Les images brutes sont ensuite supprimées du dossier *Classification_Bois/IMAGES_Brutes* ."
      ]
    },
    {
      "cell_type": "code",
      "metadata": {
        "id": "-KlvZG85Gf3V",
        "colab_type": "code",
        "colab": {
          "base_uri": "https://localhost:8080/",
          "height": 35
        },
        "outputId": "6bdd4f7b-5159-4cab-d012-d713d9df8e56"
      },
      "source": [
        "def prep_and_save(path):\n",
        "    \"\"\"Cette fonction parcours les images dans le dossier [path] et les enregistre\n",
        "     dans le dossier IMAGES_préparées\"\"\"\n",
        "\n",
        "    dirs = os.listdir(path)\n",
        "    i=0\n",
        "\n",
        "    for item in dirs:\n",
        "        \n",
        "        super_path = path+\"/\"+item\n",
        "        \n",
        "        if os.path.isfile(super_path):\n",
        "            \n",
        "            image = Image.open(super_path)\n",
        "            \n",
        "            filename_w_ext = os.path.basename(super_path)\n",
        "            filename, extension = os.path.splitext(filename_w_ext)\n",
        "\n",
        "            image = prep_image(image)\n",
        "\n",
        "            image.save(save+\"/\"+filename+\"_{}.jpg\".format(desired_size), 'JPEG')\n",
        "            os.remove(super_path)\n",
        "\n",
        "            i+=1\n",
        "\n",
        "    print('{} images ont été préparées et ont été enregistrées dans le Google Drive My Drive/Classification_Bois/Images_préparées'.format(i))\n",
        "\n",
        "\n",
        "prep_and_save(access)"
      ],
      "execution_count": null,
      "outputs": [
        {
          "output_type": "stream",
          "text": [
            "1 images ont été préparées et ont été enregistrées dans le Google Drive My Drive/Classification_Bois/Images_préparées\n"
          ],
          "name": "stdout"
        }
      ]
    }
  ]
}