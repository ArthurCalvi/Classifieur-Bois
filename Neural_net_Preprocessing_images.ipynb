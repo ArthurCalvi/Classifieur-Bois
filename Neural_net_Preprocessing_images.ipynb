{
  "nbformat": 4,
  "nbformat_minor": 0,
  "metadata": {
    "colab": {
      "name": "Neural net - Preprocessing images",
      "provenance": [],
      "authorship_tag": "ABX9TyNm1gfuTE/tzr/ja8Z/9k0+",
      "include_colab_link": true
    },
    "kernelspec": {
      "name": "python3",
      "display_name": "Python 3"
    }
  },
  "cells": [
    {
      "cell_type": "markdown",
      "metadata": {
        "id": "view-in-github",
        "colab_type": "text"
      },
      "source": [
        "<a href=\"https://colab.research.google.com/github/ArthurCalvi/Classifieur-Bois/blob/master/Neural_net_Preprocessing_images.ipynb\" target=\"_parent\"><img src=\"https://colab.research.google.com/assets/colab-badge.svg\" alt=\"Open In Colab\"/></a>"
      ]
    },
    {
      "cell_type": "markdown",
      "metadata": {
        "id": "FnTUW70x0AEY"
      },
      "source": [
        "# **Wood classification: preprocessing images**\n",
        "\n",
        "Before giving the image to the neural network so that it emits a prediction on what the image represents, it is necessary to prepare it. Indeed, the neural network takes an input of fixed dimension: a square image of dimension 256x256 pixels. In this notebook, the images contained in the Google Drive * Raw_IMAGES * folder are prepared and saved in a new Google Drive * Prepared_IMAGES * folder."
      ]
    },
    {
      "cell_type": "markdown",
      "metadata": {
        "id": "Jecv_Wab-f4d"
      },
      "source": [
        "**Part 0 - Google Drive Access** \n",
        "\n",
        "In this part we define access to your Google Drive where the raw images will be stored and also access to a folder where we will save the prepared images.\n",
        "\n",
        "\n",
        "* NB-1: As stated in the README if this is your first time running this notebook, please create a \"Project_google_colab\" folder in your google drive. *\n",
        "\n",
        "* NB-2: You will simply have to launch the two lines of code below, click on the generated link in order to authorize access to your google drive. Copy the generated key on the link and enter it below. *\n"
      ]
    },
    {
      "cell_type": "code",
      "metadata": {
        "id": "mq49TdX5-bk6",
        "outputId": "0ec8b486-7db1-4c43-c4da-254ba7886d86",
        "colab": {
          "base_uri": "https://localhost:8080/",
          "height": 35
        }
      },
      "source": [
        "from google.colab import drive\n",
        "drive.mount('/content/drive', force_remount=True)"
      ],
      "execution_count": null,
      "outputs": [
        {
          "output_type": "stream",
          "text": [
            "Mounted at /content/drive\n"
          ],
          "name": "stdout"
        }
      ]
    },
    {
      "cell_type": "markdown",
      "metadata": {
        "id": "YkY-L2JCv7ee"
      },
      "source": [
        "***First run***: The GitHub folder containing the codes, models and image directories is copied to your google drive with the following path: Goodle Drive -> Project_google_colab -> Classification-Bois."
      ]
    },
    {
      "cell_type": "code",
      "metadata": {
        "id": "a8B5yYRyvPXK",
        "outputId": "39a24001-1c7d-4c79-b9e4-d282997dae6f",
        "colab": {
          "base_uri": "https://localhost:8080/",
          "height": 140
        }
      },
      "source": [
        "%cd /content/drive/My Drive/Project_google_colab\n",
        "! git clone https://github.com/ArthurCalvi/Classifieur-Bois"
      ],
      "execution_count": null,
      "outputs": [
        {
          "output_type": "stream",
          "text": [
            "/content/drive/My Drive/Project_google_colab\n",
            "Cloning into 'Classifieur-Bois'...\n",
            "remote: Enumerating objects: 34, done.\u001b[K\n",
            "remote: Counting objects: 100% (34/34), done.\u001b[K\n",
            "remote: Compressing objects: 100% (32/32), done.\u001b[K\n",
            "remote: Total 34 (delta 5), reused 0 (delta 0), pack-reused 0\u001b[K\n",
            "Unpacking objects: 100% (34/34), done.\n"
          ],
          "name": "stdout"
        }
      ]
    },
    {
      "cell_type": "markdown",
      "metadata": {
        "id": "iugjA0zTxHSp"
      },
      "source": [
        "***Other executions :*** If you want to update the GitHub folder."
      ]
    },
    {
      "cell_type": "code",
      "metadata": {
        "id": "wg4PRjCnwsXZ",
        "outputId": "67a21456-5f95-4b61-aef7-fe5438c87b61",
        "colab": {
          "base_uri": "https://localhost:8080/",
          "height": 87
        }
      },
      "source": [
        "%cd /content/drive/My Drive/Project_google_colab/Classifieur-Bois\n",
        "! git pull"
      ],
      "execution_count": null,
      "outputs": [
        {
          "output_type": "stream",
          "text": [
            "[Errno 2] No such file or directory: 'gdrive/My Drive/Classifieur-Bois'\n",
            "/content/drive/My Drive/Project_google_colab\n",
            "fatal: not a git repository (or any parent up to mount point /content)\n",
            "Stopping at filesystem boundary (GIT_DISCOVERY_ACROSS_FILESYSTEM not set).\n"
          ],
          "name": "stdout"
        }
      ]
    },
    {
      "cell_type": "markdown",
      "metadata": {
        "id": "hJtFCv58-2zb"
      },
      "source": [
        "**Part 1 - Imports**\n",
        "\n"
      ]
    },
    {
      "cell_type": "code",
      "metadata": {
        "id": "9TxZz3wS_ZHJ"
      },
      "source": [
        "#Import of the PIL image management library\n",
        "from PIL import Image \n",
        "\n",
        "#Import of os and sys libraries to manipulate files\n",
        "import sys,os"
      ],
      "execution_count": null,
      "outputs": []
    },
    {
      "cell_type": "markdown",
      "metadata": {
        "id": "uVj2QhkS_dIW"
      },
      "source": [
        "**Part 2 - Parameters**\n",
        "\n",
        "In this part, we define the parameters such as the image width and the path to retrieve the images and save them."
      ]
    },
    {
      "cell_type": "code",
      "metadata": {
        "id": "HzTs7LjVDMEQ"
      },
      "source": [
        "#image width in px\n",
        "desired_size = 256\n",
        "\n",
        "#Directory to retrieve raw images\n",
        "access = '/content/drive/My Drive/Project_google_colab/Classifieur-Bois/IMAGES_raw'\n",
        "\n",
        "#Directory to save preprocessed images\n",
        "save = '/content/drive/My Drive/Project_google_colab/Classifieur-Bois/IMAGES_preprocessed'"
      ],
      "execution_count": null,
      "outputs": []
    },
    {
      "cell_type": "markdown",
      "metadata": {
        "id": "fLXtKzM_D0V5"
      },
      "source": [
        "**Part 3 - Preprocessing images**\n",
        "\n",
        "In this part we define the function that will perform the following tasks:\n",
        "\n",
        "1. Resize the smallest side of the image to 256 pixels\n",
        "2. Crop the longest side so that it is also 256 pixels in order to obtain a square image.\n"
      ]
    },
    {
      "cell_type": "code",
      "metadata": {
        "id": "YrsMwlCBEdRT"
      },
      "source": [
        "def prep_image(image):\n",
        "    323/5000\n",
        "    \"\"\"This function takes as argument an image of any size and aspect opened\n",
        "    according to the PIL Image.open method and transforms it into a square\n",
        "    image of side 256 pixels. The cropping is performed such that the smallest\n",
        "    side is  fixed at 256 pixels and the largest side is then cropped to obtain\n",
        "    a square format.\"\"\"\n",
        "\n",
        "    #dimensions recovery\n",
        "    width,height = image.size\n",
        "\n",
        "    #smallest side recovery\n",
        "    small_side = min(width,height)\n",
        "\n",
        "    #definition of the ratio between the old and the new image\n",
        "    ratio = desired_size / small_side\n",
        "\n",
        "    #scaling\n",
        "    image = image.resize((round(ratio*width), round(ratio*height)), Image.ANTIALIAS )\n",
        "\n",
        "    #dimensions recovery\n",
        "    width,height = image.size\n",
        "\n",
        "    #definition of the region to crop\n",
        "    crop_region = ( round(( width-desired_size)/2), 0 , round((width+desired_size)/2) , desired_size)\n",
        "\n",
        "    #cropping \n",
        "    image = image.crop(crop_region)\n",
        "\n",
        "    return image"
      ],
      "execution_count": null,
      "outputs": []
    },
    {
      "cell_type": "markdown",
      "metadata": {
        "id": "b9nHSKVCF7w_"
      },
      "source": [
        "**Part 4 - Preprocessing images of a folder and saving**\n",
        "\n",
        "In this part we preprocess all the images of the * Classification_Wood / IMAGES_raw * folder and we save it in the * Classification_Wood / IMAGES_preprocessed * folder. The raw images are then deleted from the * Classification_Wood / IMAGES_raw folder."
      ]
    },
    {
      "cell_type": "code",
      "metadata": {
        "id": "-KlvZG85Gf3V",
        "outputId": "0b9227f1-44c0-4043-ac8a-ff9bed650b2c",
        "colab": {
          "base_uri": "https://localhost:8080/",
          "height": 35
        }
      },
      "source": [
        "def prep_and_save(path):\n",
        "    \"\"\"This function browses the images in the IMAGES_raw folder and saves it\n",
        "    in the IMAGES_preprocessed folder\"\"\"\n",
        "\n",
        "    dirs = os.listdir(path)\n",
        "    i=0\n",
        "\n",
        "    for item in dirs:\n",
        "        \n",
        "        super_path = path+\"/\"+item\n",
        "        \n",
        "        if os.path.isfile(super_path):\n",
        "            \n",
        "            image = Image.open(super_path)\n",
        "            \n",
        "            filename_w_ext = os.path.basename(super_path)\n",
        "            filename, extension = os.path.splitext(filename_w_ext)\n",
        "\n",
        "            image = prep_image(image)\n",
        "\n",
        "            image.save(save+\"/\"+filename+\"_{}.jpg\".format(desired_size), 'JPEG')\n",
        "            os.remove(super_path)\n",
        "\n",
        "            i+=1\n",
        "\n",
        "    print('{} images have been prepared and have been saved to Google Drive : My Drive/Project_google_colab/Classification-Bois/Images_preprocessed'.format(i))\n",
        "\n",
        "\n",
        "prep_and_save(access)"
      ],
      "execution_count": null,
      "outputs": [
        {
          "output_type": "stream",
          "text": [
            "1 images ont été préparées et ont été enregistrées dans le Google Drive My Drive/Classification_Bois/Images_préparées\n"
          ],
          "name": "stdout"
        }
      ]
    }
  ]
}